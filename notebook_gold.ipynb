{
 "cells": [
  {
   "cell_type": "markdown",
   "metadata": {},
   "source": [
    "# Notebook camada Gold"
   ]
  },
  {
   "cell_type": "code",
   "execution_count": 19,
   "metadata": {},
   "outputs": [],
   "source": [
    "import findspark\n",
    "import os\n",
    "findspark.init()\n",
    "\n",
    "from pyspark.sql import SparkSession\n",
    "\n",
    "# Criar uma sessão do Spark\n",
    "spark = SparkSession.builder.appName(\"Notebook_Gold\").getOrCreate()\n",
    "\n",
    "from pyspark.sql import SparkSession\n",
    "from pyspark.sql.functions import col, sum, count, avg, max, sha2, col, unhex, substring, expr"
   ]
  },
  {
   "cell_type": "markdown",
   "metadata": {},
   "source": [
    "### Camadas de Origem e Destino"
   ]
  },
  {
   "cell_type": "code",
   "execution_count": 20,
   "metadata": {},
   "outputs": [],
   "source": [
    "camada_origem = \"silver\"\n",
    "camada_destino = \"gold\"\n",
    "os.makedirs(camada_origem, exist_ok=True)"
   ]
  },
  {
   "cell_type": "markdown",
   "metadata": {},
   "source": [
    "### Carregar tabelas da Silver"
   ]
  },
  {
   "cell_type": "code",
   "execution_count": 21,
   "metadata": {},
   "outputs": [],
   "source": [
    "# Carrega os dados da camada Silver (Parquet)\n",
    "customers = spark.read.parquet(f\"{camada_origem}/customers\")\n",
    "geolocation = spark.read.parquet(f\"{camada_origem}/geolocation\")\n",
    "order_items = spark.read.parquet(f\"{camada_origem}/order_items\")\n",
    "order_payments = spark.read.parquet(f\"{camada_origem}/order_payments\")\n",
    "order_reviews = spark.read.parquet(f\"{camada_origem}/order_reviews\")\n",
    "orders = spark.read.parquet(f\"{camada_origem}/orders\")\n",
    "product_category_translation = spark.read.parquet(f\"{camada_origem}/product_category_name_translation\")\n",
    "products = spark.read.parquet(f\"{camada_origem}/products\")\n",
    "sellers = spark.read.parquet(f\"{camada_origem}/sellers\")"
   ]
  },
  {
   "cell_type": "markdown",
   "metadata": {},
   "source": [
    "### Dimensão Cliente"
   ]
  },
  {
   "cell_type": "code",
   "execution_count": 22,
   "metadata": {},
   "outputs": [
    {
     "name": "stderr",
     "output_type": "stream",
     "text": [
      "25/02/24 08:33:02 WARN MemoryManager: Total allocation exceeds 95.00% (1,020,054,720 bytes) of heap memory\n",
      "Scaling row group sizes to 95.00% for 8 writers\n"
     ]
    }
   ],
   "source": [
    "# Adiciona uma coluna com UUID gerado nativamente pelo Spark\n",
    "dim_cliente = customers.select(\n",
    "    \"customer_id\",\n",
    "    \"customer_unique_id\",\n",
    "    \"customer_zip_code_prefix\",\n",
    "    \"customer_city\",\n",
    "    \"customer_state\"\n",
    ").withColumn(\"customer_sk\", expr(\"uuid()\"))\n",
    "\n",
    "# Reordenar as colunas\n",
    "dim_cliente = dim_cliente.select(\n",
    "    \"customer_sk\",\n",
    "    \"customer_id\",\n",
    "    \"customer_unique_id\",\n",
    "    \"customer_zip_code_prefix\",\n",
    "    \"customer_city\",\n",
    "    \"customer_state\"\n",
    ")\n",
    "\n",
    "# Salva a dimensão vendedor na camada Gold\n",
    "dim_cliente.write.parquet(f\"{camada_destino}/dim_cliente\", mode=\"overwrite\")\n"
   ]
  },
  {
   "cell_type": "markdown",
   "metadata": {},
   "source": [
    "### Dimensão Vendedor"
   ]
  },
  {
   "cell_type": "code",
   "execution_count": 25,
   "metadata": {},
   "outputs": [],
   "source": [
    "# Seleciona as colunas da tabela sellers\n",
    "dim_vendedor = sellers.select(\n",
    "    \"seller_id\",\n",
    "    \"seller_zip_code_prefix\",\n",
    "    \"seller_city\",\n",
    "    \"seller_state\"\n",
    ").withColumn(\"seller_sk\", expr(\"uuid()\"))  # Adiciona uma chave substituta única\n",
    "\n",
    "# Reordena as colunas para colocar o seller_sk no início\n",
    "dim_vendedor = dim_vendedor.select(\n",
    "    \"seller_sk\",\n",
    "    \"seller_id\",\n",
    "    \"seller_zip_code_prefix\",\n",
    "    \"seller_city\",\n",
    "    \"seller_state\"\n",
    ")\n",
    "\n",
    "# Salva a dimensão vendedor na camada Gold\n",
    "dim_vendedor.write.parquet(f\"{camada_destino}/dim_vendedor\", mode=\"overwrite\")"
   ]
  },
  {
   "cell_type": "markdown",
   "metadata": {},
   "source": [
    "### Dimensão Produto"
   ]
  },
  {
   "cell_type": "code",
   "execution_count": 26,
   "metadata": {},
   "outputs": [],
   "source": [
    "# Adiciona a chave substituta com UUID\n",
    "dim_produto = products \\\n",
    "    .join(product_category_translation, \"product_category_name\", \"left\") \\\n",
    "    .select(\n",
    "        \"product_id\",\n",
    "        \"product_category_name\",\n",
    "        \"product_category_name_english\",\n",
    "        \"product_name_lenght\",\n",
    "        \"product_description_lenght\",\n",
    "        \"product_photos_qty\",\n",
    "        \"product_weight_g\",\n",
    "        \"product_length_cm\",\n",
    "        \"product_height_cm\",\n",
    "        \"product_width_cm\"\n",
    "    ).withColumn(\"product_sk\", expr(\"uuid()\"))  # Adiciona UUID como chave substituta\n",
    "\n",
    "# Reordena as colunas para colocar a chave substituta no início\n",
    "dim_produto = dim_produto.select(\n",
    "    \"product_sk\",\n",
    "    \"product_id\",\n",
    "    \"product_category_name\",\n",
    "    \"product_category_name_english\",\n",
    "    \"product_name_lenght\",\n",
    "    \"product_description_lenght\",\n",
    "    \"product_photos_qty\",\n",
    "    \"product_weight_g\",\n",
    "    \"product_length_cm\",\n",
    "    \"product_height_cm\",\n",
    "    \"product_width_cm\"\n",
    ")\n",
    "\n",
    "# Salva a dimensão produto na camada Gold\n",
    "dim_produto.write.parquet(f\"{camada_destino}/dim_produto\", mode=\"overwrite\")\n"
   ]
  },
  {
   "cell_type": "markdown",
   "metadata": {},
   "source": [
    "### Dimensão Pagamento"
   ]
  },
  {
   "cell_type": "code",
   "execution_count": 27,
   "metadata": {},
   "outputs": [],
   "source": [
    "# Adiciona a chave substituta com UUID\n",
    "dim_pagamento = order_payments.select(\n",
    "    \"order_id\",\n",
    "    \"payment_sequential\",\n",
    "    \"payment_type\",\n",
    "    \"payment_installments\",\n",
    "    \"payment_value\"\n",
    ").withColumn(\"payment_sk\", expr(\"uuid()\"))  # Adiciona UUID como chave substituta\n",
    "\n",
    "# Reordena as colunas para colocar a chave substituta no início\n",
    "dim_pagamento = dim_pagamento.select(\n",
    "    \"payment_sk\",\n",
    "    \"order_id\",\n",
    "    \"payment_sequential\",\n",
    "    \"payment_type\",\n",
    "    \"payment_installments\",\n",
    "    \"payment_value\"\n",
    ")\n",
    "\n",
    "# Salva a dimensão pagamento na camada Gold\n",
    "dim_pagamento.write.parquet(f\"{camada_destino}/dim_pagamento\", mode=\"overwrite\")"
   ]
  },
  {
   "cell_type": "markdown",
   "metadata": {},
   "source": [
    "### Dimensão Avaliação"
   ]
  },
  {
   "cell_type": "code",
   "execution_count": 28,
   "metadata": {},
   "outputs": [
    {
     "name": "stderr",
     "output_type": "stream",
     "text": [
      "25/02/24 08:33:04 WARN MemoryManager: Total allocation exceeds 95.00% (1,020,054,720 bytes) of heap memory\n",
      "Scaling row group sizes to 95.00% for 8 writers\n",
      "25/02/24 08:33:04 WARN MemoryManager: Total allocation exceeds 95.00% (1,020,054,720 bytes) of heap memory\n",
      "Scaling row group sizes to 84.44% for 9 writers\n",
      "25/02/24 08:33:04 WARN MemoryManager: Total allocation exceeds 95.00% (1,020,054,720 bytes) of heap memory\n",
      "Scaling row group sizes to 76.00% for 10 writers\n",
      "25/02/24 08:33:04 WARN MemoryManager: Total allocation exceeds 95.00% (1,020,054,720 bytes) of heap memory\n",
      "Scaling row group sizes to 84.44% for 9 writers\n",
      "25/02/24 08:33:04 WARN MemoryManager: Total allocation exceeds 95.00% (1,020,054,720 bytes) of heap memory\n",
      "Scaling row group sizes to 95.00% for 8 writers\n"
     ]
    }
   ],
   "source": [
    "# Adiciona a chave substituta com UUID\n",
    "dim_avaliacao = order_reviews.select(\n",
    "    \"order_id\",\n",
    "    \"review_id\",\n",
    "    \"review_score\",\n",
    "    \"review_comment_title\",\n",
    "    \"review_comment_message\",\n",
    "    \"review_creation_date\",\n",
    "    \"review_answer_timestamp\"\n",
    ").withColumn(\"review_sk\", expr(\"uuid()\"))  # Adiciona UUID como chave substituta\n",
    "\n",
    "# Reordena as colunas para colocar a chave substituta no início\n",
    "dim_avaliacao = dim_avaliacao.select(\n",
    "    \"review_sk\",\n",
    "    \"order_id\",\n",
    "    \"review_id\",\n",
    "    \"review_score\",\n",
    "    \"review_comment_title\",\n",
    "    \"review_comment_message\",\n",
    "    \"review_creation_date\",\n",
    "    \"review_answer_timestamp\"\n",
    ")\n",
    "\n",
    "# Salva a dimensão avaliação na camada Gold\n",
    "dim_avaliacao.write.parquet(f\"{camada_destino}/dim_avaliacao\", mode=\"overwrite\")\n"
   ]
  },
  {
   "cell_type": "markdown",
   "metadata": {},
   "source": [
    "### Dimensão Geolocalização"
   ]
  },
  {
   "cell_type": "code",
   "execution_count": 29,
   "metadata": {},
   "outputs": [
    {
     "name": "stderr",
     "output_type": "stream",
     "text": [
      "25/02/24 08:33:05 WARN MemoryManager: Total allocation exceeds 95.00% (1,020,054,720 bytes) of heap memory\n",
      "Scaling row group sizes to 95.00% for 8 writers\n",
      "25/02/24 08:33:05 WARN MemoryManager: Total allocation exceeds 95.00% (1,020,054,720 bytes) of heap memory\n",
      "Scaling row group sizes to 84.44% for 9 writers\n",
      "25/02/24 08:33:05 WARN MemoryManager: Total allocation exceeds 95.00% (1,020,054,720 bytes) of heap memory\n",
      "Scaling row group sizes to 76.00% for 10 writers\n",
      "25/02/24 08:33:05 WARN MemoryManager: Total allocation exceeds 95.00% (1,020,054,720 bytes) of heap memory\n",
      "Scaling row group sizes to 69.09% for 11 writers\n",
      "25/02/24 08:33:05 WARN MemoryManager: Total allocation exceeds 95.00% (1,020,054,720 bytes) of heap memory\n",
      "Scaling row group sizes to 63.33% for 12 writers\n",
      "25/02/24 08:33:05 WARN MemoryManager: Total allocation exceeds 95.00% (1,020,054,720 bytes) of heap memory\n",
      "Scaling row group sizes to 69.09% for 11 writers\n",
      "25/02/24 08:33:05 WARN MemoryManager: Total allocation exceeds 95.00% (1,020,054,720 bytes) of heap memory\n",
      "Scaling row group sizes to 76.00% for 10 writers\n",
      "25/02/24 08:33:05 WARN MemoryManager: Total allocation exceeds 95.00% (1,020,054,720 bytes) of heap memory\n",
      "Scaling row group sizes to 84.44% for 9 writers\n",
      "25/02/24 08:33:05 WARN MemoryManager: Total allocation exceeds 95.00% (1,020,054,720 bytes) of heap memory\n",
      "Scaling row group sizes to 95.00% for 8 writers\n",
      "                                                                                \r"
     ]
    }
   ],
   "source": [
    "# Adiciona a chave substituta com UUID\n",
    "dim_geolocalizacao = geolocation.select(\n",
    "    \"geolocation_zip_code_prefix\",\n",
    "    \"geolocation_lat\",\n",
    "    \"geolocation_lng\",\n",
    "    \"geolocation_city\",\n",
    "    \"geolocation_state\"\n",
    ").withColumn(\"geolocation_sk\", expr(\"uuid()\"))  # Adiciona UUID como chave substituta\n",
    "\n",
    "# Reordena as colunas para colocar a chave substituta no início\n",
    "dim_geolocalizacao = dim_geolocalizacao.select(\n",
    "    \"geolocation_sk\",\n",
    "    \"geolocation_zip_code_prefix\",\n",
    "    \"geolocation_lat\",\n",
    "    \"geolocation_lng\",\n",
    "    \"geolocation_city\",\n",
    "    \"geolocation_state\"\n",
    ")\n",
    "\n",
    "# Salva a dimensão geolocalização na camada Gold\n",
    "dim_geolocalizacao.write.parquet(f\"{camada_destino}/dim_geolocalizacao\", mode=\"overwrite\")\n"
   ]
  },
  {
   "cell_type": "markdown",
   "metadata": {},
   "source": [
    "### Fato Pedido"
   ]
  },
  {
   "cell_type": "code",
   "execution_count": 35,
   "metadata": {},
   "outputs": [
    {
     "name": "stderr",
     "output_type": "stream",
     "text": [
      "25/02/24 08:34:35 WARN MemoryManager: Total allocation exceeds 95.00% (1,020,054,720 bytes) of heap memory\n",
      "Scaling row group sizes to 95.00% for 8 writers\n",
      "25/02/24 08:34:35 WARN MemoryManager: Total allocation exceeds 95.00% (1,020,054,720 bytes) of heap memory\n",
      "Scaling row group sizes to 84.44% for 9 writers\n",
      "25/02/24 08:34:35 WARN MemoryManager: Total allocation exceeds 95.00% (1,020,054,720 bytes) of heap memory\n",
      "Scaling row group sizes to 76.00% for 10 writers\n",
      "25/02/24 08:34:35 WARN MemoryManager: Total allocation exceeds 95.00% (1,020,054,720 bytes) of heap memory\n",
      "Scaling row group sizes to 69.09% for 11 writers\n",
      "25/02/24 08:34:35 WARN MemoryManager: Total allocation exceeds 95.00% (1,020,054,720 bytes) of heap memory\n",
      "Scaling row group sizes to 63.33% for 12 writers\n",
      "25/02/24 08:34:36 WARN MemoryManager: Total allocation exceeds 95.00% (1,020,054,720 bytes) of heap memory\n",
      "Scaling row group sizes to 69.09% for 11 writers\n",
      "25/02/24 08:34:36 WARN MemoryManager: Total allocation exceeds 95.00% (1,020,054,720 bytes) of heap memory\n",
      "Scaling row group sizes to 76.00% for 10 writers\n",
      "25/02/24 08:34:36 WARN MemoryManager: Total allocation exceeds 95.00% (1,020,054,720 bytes) of heap memory\n",
      "Scaling row group sizes to 84.44% for 9 writers\n",
      "25/02/24 08:34:36 WARN MemoryManager: Total allocation exceeds 95.00% (1,020,054,720 bytes) of heap memory\n",
      "Scaling row group sizes to 95.00% for 8 writers\n",
      "                                                                                \r"
     ]
    }
   ],
   "source": [
    "# Join entre orders, order_items, order_payments e order_reviews\n",
    "fato_pedidos = orders \\\n",
    "    .join(order_items, \"order_id\", \"left\") \\\n",
    "    .join(order_payments, \"order_id\", \"left\") \\\n",
    "    .join(order_reviews, \"order_id\", \"left\") \\\n",
    "    .groupBy(\n",
    "        \"order_id\",\n",
    "        \"customer_id\",\n",
    "        \"seller_id\",  # Incluído seller_id no groupBy\n",
    "        \"product_id\",  # Incluído product_id no groupBy\n",
    "        \"order_status\",\n",
    "        \"order_purchase_timestamp\",\n",
    "        \"order_approved_at\",\n",
    "        \"order_delivered_carrier_date\",\n",
    "        \"order_delivered_customer_date\",\n",
    "        \"order_estimated_delivery_date\"\n",
    "    ) \\\n",
    "    .agg(\n",
    "        sum(\"price\").alias(\"total_price\"),\n",
    "        sum(\"freight_value\").alias(\"total_freight_value\"),\n",
    "        count(\"order_item_id\").alias(\"product_count\"),\n",
    "        avg(\"review_score\").alias(\"avg_review_score\"),\n",
    "        sum(\"payment_value\").alias(\"total_payment_value\"),\n",
    "        max(\"payment_installments\").alias(\"max_payment_installments\")\n",
    "    )\n",
    "\n",
    "# Join com as tabelas de dimensões para obter as chaves substitutas\n",
    "fato_pedidos = fato_pedidos \\\n",
    "    .join(dim_cliente.select(\"customer_id\", \"customer_sk\"), \"customer_id\", \"left\") \\\n",
    "    .join(dim_vendedor.select(\"seller_id\", \"seller_sk\"), \"seller_id\", \"left\") \\\n",
    "    .join(dim_produto.select(\"product_id\", \"product_sk\"), \"product_id\", \"left\") \\\n",
    "    .join(dim_pagamento.select(\"order_id\", \"payment_sk\"), \"order_id\", \"left\") \\\n",
    "    .join(dim_avaliacao.select(\"order_id\", \"review_sk\"), \"order_id\", \"left\")\n",
    "\n",
    "# Seleciona as colunas desejadas (incluindo as chaves substitutas)\n",
    "fato_pedidos = fato_pedidos.select(\n",
    "    \"order_id\",\n",
    "    \"customer_sk\",\n",
    "    \"seller_sk\",\n",
    "    \"product_sk\",\n",
    "    \"payment_sk\",\n",
    "    \"review_sk\",\n",
    "    \"order_status\",\n",
    "    \"order_purchase_timestamp\",\n",
    "    \"order_approved_at\",\n",
    "    \"order_delivered_carrier_date\",\n",
    "    \"order_delivered_customer_date\",\n",
    "    \"order_estimated_delivery_date\",\n",
    "    \"total_price\",\n",
    "    \"total_freight_value\",\n",
    "    \"product_count\",\n",
    "    \"avg_review_score\",\n",
    "    \"total_payment_value\",\n",
    "    \"max_payment_installments\"\n",
    ")\n",
    "\n",
    "# Salva a tabela fato atualizada\n",
    "fato_pedidos.write.parquet(f\"{camada_destino}/fato_pedidos\", mode=\"overwrite\")"
   ]
  }
 ],
 "metadata": {
  "kernelspec": {
   "display_name": "Python 3",
   "language": "python",
   "name": "python3"
  },
  "language_info": {
   "codemirror_mode": {
    "name": "ipython",
    "version": 3
   },
   "file_extension": ".py",
   "mimetype": "text/x-python",
   "name": "python",
   "nbconvert_exporter": "python",
   "pygments_lexer": "ipython3",
   "version": "3.10.12"
  }
 },
 "nbformat": 4,
 "nbformat_minor": 2
}
