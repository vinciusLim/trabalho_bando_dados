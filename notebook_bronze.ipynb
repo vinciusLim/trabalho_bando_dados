{
 "cells": [
  {
   "cell_type": "markdown",
   "metadata": {},
   "source": [
    "# Notebook camada Bronze"
   ]
  },
  {
   "cell_type": "code",
   "execution_count": 2,
   "metadata": {},
   "outputs": [
    {
     "name": "stderr",
     "output_type": "stream",
     "text": [
      "your 131072x1 screen size is bogus. expect trouble\n",
      "25/02/24 11:33:20 WARN Utils: Your hostname, WIN-1UBBDCA009F resolves to a loopback address: 127.0.1.1; using 10.255.255.254 instead (on interface lo)\n",
      "25/02/24 11:33:20 WARN Utils: Set SPARK_LOCAL_IP if you need to bind to another address\n",
      "Setting default log level to \"WARN\".\n",
      "To adjust logging level use sc.setLogLevel(newLevel). For SparkR, use setLogLevel(newLevel).\n",
      "25/02/24 11:33:21 WARN NativeCodeLoader: Unable to load native-hadoop library for your platform... using builtin-java classes where applicable\n",
      "25/02/24 11:33:22 WARN Utils: Service 'SparkUI' could not bind on port 4040. Attempting port 4041.\n",
      "25/02/24 11:33:22 WARN Utils: Service 'SparkUI' could not bind on port 4041. Attempting port 4042.\n",
      "25/02/24 11:33:22 WARN Utils: Service 'SparkUI' could not bind on port 4042. Attempting port 4043.\n"
     ]
    }
   ],
   "source": [
    "import findspark\n",
    "import os\n",
    "findspark.init()\n",
    "\n",
    "from pyspark.sql import SparkSession\n",
    "\n",
    "# Criar uma sessão do Spark\n",
    "spark = SparkSession.builder.appName(\"Notebook_Bronze\").getOrCreate()"
   ]
  },
  {
   "cell_type": "code",
   "execution_count": 4,
   "metadata": {},
   "outputs": [
    {
     "name": "stderr",
     "output_type": "stream",
     "text": [
      "25/02/24 11:35:05 WARN MemoryManager: Total allocation exceeds 95.00% (1,020,054,720 bytes) of heap memory\n",
      "Scaling row group sizes to 95.00% for 8 writers\n",
      "25/02/24 11:35:05 WARN MemoryManager: Total allocation exceeds 95.00% (1,020,054,720 bytes) of heap memory\n",
      "Scaling row group sizes to 84.44% for 9 writers\n",
      "25/02/24 11:35:05 WARN MemoryManager: Total allocation exceeds 95.00% (1,020,054,720 bytes) of heap memory\n",
      "Scaling row group sizes to 76.00% for 10 writers\n",
      "25/02/24 11:35:05 WARN MemoryManager: Total allocation exceeds 95.00% (1,020,054,720 bytes) of heap memory\n",
      "Scaling row group sizes to 69.09% for 11 writers\n",
      "25/02/24 11:35:05 WARN MemoryManager: Total allocation exceeds 95.00% (1,020,054,720 bytes) of heap memory\n",
      "Scaling row group sizes to 63.33% for 12 writers\n",
      "25/02/24 11:35:05 WARN MemoryManager: Total allocation exceeds 95.00% (1,020,054,720 bytes) of heap memory\n",
      "Scaling row group sizes to 69.09% for 11 writers\n",
      "25/02/24 11:35:06 WARN MemoryManager: Total allocation exceeds 95.00% (1,020,054,720 bytes) of heap memory\n",
      "Scaling row group sizes to 76.00% for 10 writers\n",
      "25/02/24 11:35:06 WARN MemoryManager: Total allocation exceeds 95.00% (1,020,054,720 bytes) of heap memory\n",
      "Scaling row group sizes to 84.44% for 9 writers\n",
      "25/02/24 11:35:06 WARN MemoryManager: Total allocation exceeds 95.00% (1,020,054,720 bytes) of heap memory\n",
      "Scaling row group sizes to 95.00% for 8 writers\n",
      "                                                                                \r"
     ]
    }
   ],
   "source": [
    "# Diretórios de entrada (CSV) e saída (Parquet)\n",
    "camada_origem = \"landing\"\n",
    "camada_destino = \"bronze\"\n",
    "os.makedirs(camada_origem, exist_ok=True)\n",
    "\n",
    "\n",
    "# Tabela customers\n",
    "customers = spark.read.csv(f\"{camada_origem}/olist_customers_dataset.csv\", header=True, inferSchema=True)\n",
    "customers.write.mode(\"overwrite\").parquet(f\"{camada_destino}/customers/\")\n",
    "\n",
    "# Tabela geolocation\n",
    "geolocation = spark.read.csv(f\"{camada_origem}/olist_geolocation_dataset.csv\", header=True, inferSchema=True)\n",
    "geolocation.write.mode(\"overwrite\").parquet(f\"{camada_destino}/geolocation/\")\n",
    "\n",
    "# Tabela orders\n",
    "orders = spark.read.csv(f\"{camada_origem}/olist_orders_dataset.csv\", header=True, inferSchema=True)\n",
    "orders.write.mode(\"overwrite\").parquet(f\"{camada_destino}/orders/\")\n",
    "\n",
    "# Tabela order_items\n",
    "order_items = spark.read.csv(f\"{camada_origem}/olist_order_items_dataset.csv\", header=True, inferSchema=True)\n",
    "order_items.write.mode(\"overwrite\").parquet(f\"{camada_destino}/order_items/\")\n",
    "\n",
    "# Tabela order_payments\n",
    "order_payments = spark.read.csv(f\"{camada_origem}/olist_order_payments_dataset.csv\", header=True, inferSchema=True)\n",
    "order_payments.write.mode(\"overwrite\").parquet(f\"{camada_destino}/order_payments/\")\n",
    "\n",
    "# Tabela order_reviews\n",
    "order_reviews = spark.read.csv(f\"{camada_origem}/olist_order_reviews_dataset.csv\", header=True, inferSchema=True)\n",
    "order_reviews.write.mode(\"overwrite\").parquet(f\"{camada_destino}/order_reviews/\")\n",
    "\n",
    "# Tabela products\n",
    "products = spark.read.csv(f\"{camada_origem}/olist_products_dataset.csv\", header=True, inferSchema=True)\n",
    "products.write.mode(\"overwrite\").parquet(f\"{camada_destino}/products/\")\n",
    "\n",
    "# Tabela sellers\n",
    "sellers = spark.read.csv(f\"{camada_origem}/olist_sellers_dataset.csv\", header=True, inferSchema=True)\n",
    "sellers.write.mode(\"overwrite\").parquet(f\"{camada_destino}/sellers/\")\n",
    "\n",
    "# Tabela product_category_name_translation\n",
    "product_category_name_translation = spark.read.csv(f\"{camada_origem}/product_category_name_translation.csv\", header=True, inferSchema=True)\n",
    "product_category_name_translation.write.mode(\"overwrite\").parquet(f\"{camada_destino}/product_category_name_translation/\")\n"
   ]
  }
 ],
 "metadata": {
  "kernelspec": {
   "display_name": "Python 3",
   "language": "python",
   "name": "python3"
  },
  "language_info": {
   "codemirror_mode": {
    "name": "ipython",
    "version": 3
   },
   "file_extension": ".py",
   "mimetype": "text/x-python",
   "name": "python",
   "nbconvert_exporter": "python",
   "pygments_lexer": "ipython3",
   "version": "3.10.12"
  }
 },
 "nbformat": 4,
 "nbformat_minor": 2
}
