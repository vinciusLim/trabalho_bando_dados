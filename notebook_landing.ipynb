{
 "cells": [
  {
   "cell_type": "markdown",
   "metadata": {},
   "source": [
    "# Notebook camada Landing"
   ]
  },
  {
   "cell_type": "code",
   "execution_count": 12,
   "metadata": {},
   "outputs": [
    {
     "name": "stdout",
     "output_type": "stream",
     "text": [
      "Pasta 'landing/' criada com sucesso.\n",
      "Arquivo salvo em landing/olist_customers_dataset.csv\n",
      "Arquivo salvo em landing/olist_geolocation_dataset.csv\n",
      "Arquivo salvo em landing/olist_order_items_dataset.csv\n",
      "Arquivo salvo em landing/olist_order_payments_dataset.csv\n",
      "Arquivo salvo em landing/olist_order_reviews_dataset.csv\n",
      "Arquivo salvo em landing/olist_orders_dataset.csv\n",
      "Arquivo salvo em landing/olist_products_dataset.csv\n",
      "Arquivo salvo em landing/olist_sellers_dataset.csv\n",
      "Arquivo salvo em landing/product_category_name_translation.csv\n"
     ]
    }
   ],
   "source": [
    "import os\n",
    "import requests\n",
    "\n",
    "# URL da API para listar o conteúdo da pasta 'datasets' no GitHub\n",
    "repo_url = 'https://api.github.com/repos/olist/work-at-olist-data/contents/datasets'\n",
    "\n",
    "# Pasta onde os arquivos CSV serão salvos\n",
    "landing_path = 'landing/'\n",
    "\n",
    "# Verifica se a pasta \"landing/\" existe e cria, caso não exista\n",
    "if not os.path.exists(landing_path):\n",
    "    os.makedirs(landing_path)\n",
    "    print(f\"Pasta '{landing_path}' criada com sucesso.\")\n",
    "\n",
    "# Função para baixar arquivos CSV\n",
    "def download_file(url, save_path):\n",
    "    response = requests.get(url)\n",
    "    with open(save_path, 'wb') as f:\n",
    "        f.write(response.content)\n",
    "    print(f'Arquivo salvo em {save_path}')\n",
    "\n",
    "# Fazer a requisição para obter os arquivos na pasta 'datasets'\n",
    "response = requests.get(repo_url)\n",
    "files = response.json()\n",
    "\n",
    "# Filtrar os arquivos CSV\n",
    "csv_files = [file for file in files if file['name'].endswith('.csv')]\n",
    "\n",
    "# Baixar os arquivos CSV\n",
    "for file in csv_files:\n",
    "    file_url = file['download_url']\n",
    "    save_path = os.path.join(landing_path, file['name'])\n",
    "    download_file(file_url, save_path)\n"
   ]
  }
 ],
 "metadata": {
  "kernelspec": {
   "display_name": "Python 3",
   "language": "python",
   "name": "python3"
  },
  "language_info": {
   "codemirror_mode": {
    "name": "ipython",
    "version": 3
   },
   "file_extension": ".py",
   "mimetype": "text/x-python",
   "name": "python",
   "nbconvert_exporter": "python",
   "pygments_lexer": "ipython3",
   "version": "3.10.12"
  }
 },
 "nbformat": 4,
 "nbformat_minor": 2
}
